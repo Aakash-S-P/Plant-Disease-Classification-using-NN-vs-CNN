{
  "cells": [
    {
      "cell_type": "code",
      "execution_count": 7,
      "metadata": {
        "colab": {
          "base_uri": "https://localhost:8080/"
        },
        "id": "Bn8CZE4qjJym",
        "outputId": "acecde97-d485-43f3-e122-e98f3e204a64"
      },
      "outputs": [
        {
          "output_type": "stream",
          "name": "stdout",
          "text": [
            "✅ Dataset downloaded successfully!\n",
            "📂 Path to dataset files: /kaggle/input/plantvillage\n"
          ]
        }
      ],
      "source": [
        "import kagglehub\n",
        "\n",
        "# Download latest version of the PlantVillage dataset\n",
        "path = kagglehub.dataset_download(\"moazeldsokyx/plantvillage\")\n",
        "\n",
        "print(\"✅ Dataset downloaded successfully!\")\n",
        "print(\"📂 Path to dataset files:\", path)\n"
      ]
    },
    {
      "cell_type": "code",
      "execution_count": 8,
      "metadata": {
        "colab": {
          "base_uri": "https://localhost:8080/"
        },
        "id": "QLmcs6qpMS7D",
        "outputId": "da7cce49-2b04-452e-dee8-75127b055ffb"
      },
      "outputs": [
        {
          "output_type": "stream",
          "name": "stdout",
          "text": [
            "📂 Train dir: /kaggle/input/plantvillage/dataset/train\n",
            "📂 Test dir: /kaggle/input/plantvillage/dataset/test\n"
          ]
        }
      ],
      "source": [
        "import os\n",
        "\n",
        "base_dir = \"/kaggle/input/plantvillage/dataset\"\n",
        "\n",
        "train_dir = os.path.join(base_dir, \"train\")\n",
        "test_dir = os.path.join(base_dir, \"test\")\n",
        "\n",
        "print(\"📂 Train dir:\", train_dir)\n",
        "print(\"📂 Test dir:\", test_dir)\n"
      ]
    },
    {
      "cell_type": "code",
      "execution_count": 9,
      "metadata": {
        "colab": {
          "base_uri": "https://localhost:8080/"
        },
        "id": "CapbCNMvNLR7",
        "outputId": "cb160787-6cb1-4644-eb15-25dbcf533036"
      },
      "outputs": [
        {
          "output_type": "stream",
          "name": "stdout",
          "text": [
            "Found 16504 images belonging to 15 classes.\n",
            "Found 2064 images belonging to 15 classes.\n"
          ]
        }
      ],
      "source": [
        "from tensorflow.keras.preprocessing.image import ImageDataGenerator\n",
        "\n",
        "img_size = (128, 128)\n",
        "batch_size = 32\n",
        "\n",
        "train_datagen = ImageDataGenerator(rescale=1./255)\n",
        "test_datagen = ImageDataGenerator(rescale=1./255)\n",
        "\n",
        "train_gen = train_datagen.flow_from_directory(\n",
        "    train_dir,\n",
        "    target_size=img_size,\n",
        "    batch_size=batch_size,\n",
        "    class_mode='categorical'\n",
        ")\n",
        "\n",
        "test_gen = test_datagen.flow_from_directory(\n",
        "    test_dir,\n",
        "    target_size=img_size,\n",
        "    batch_size=batch_size,\n",
        "    class_mode='categorical',\n",
        "    shuffle=False\n",
        ")\n"
      ]
    },
    {
      "cell_type": "code",
      "execution_count": 10,
      "metadata": {
        "colab": {
          "base_uri": "https://localhost:8080/",
          "height": 1000
        },
        "id": "lvm-02N4NjbB",
        "outputId": "bd6e696f-78e5-424b-f26b-3ecd60b60652"
      },
      "outputs": [
        {
          "output_type": "stream",
          "name": "stdout",
          "text": [
            "📂 Train dir: /kaggle/input/plantvillage/dataset/train\n",
            "📂 Test dir: /kaggle/input/plantvillage/dataset/test\n",
            "Found 16504 images belonging to 15 classes.\n",
            "Found 2064 images belonging to 15 classes.\n"
          ]
        },
        {
          "output_type": "display_data",
          "data": {
            "text/plain": [
              "\u001b[1mModel: \"sequential\"\u001b[0m\n"
            ],
            "text/html": [
              "<pre style=\"white-space:pre;overflow-x:auto;line-height:normal;font-family:Menlo,'DejaVu Sans Mono',consolas,'Courier New',monospace\"><span style=\"font-weight: bold\">Model: \"sequential\"</span>\n",
              "</pre>\n"
            ]
          },
          "metadata": {}
        },
        {
          "output_type": "display_data",
          "data": {
            "text/plain": [
              "┏━━━━━━━━━━━━━━━━━━━━━━━━━━━━━━━━━┳━━━━━━━━━━━━━━━━━━━━━━━━┳━━━━━━━━━━━━━━━┓\n",
              "┃\u001b[1m \u001b[0m\u001b[1mLayer (type)                   \u001b[0m\u001b[1m \u001b[0m┃\u001b[1m \u001b[0m\u001b[1mOutput Shape          \u001b[0m\u001b[1m \u001b[0m┃\u001b[1m \u001b[0m\u001b[1m      Param #\u001b[0m\u001b[1m \u001b[0m┃\n",
              "┡━━━━━━━━━━━━━━━━━━━━━━━━━━━━━━━━━╇━━━━━━━━━━━━━━━━━━━━━━━━╇━━━━━━━━━━━━━━━┩\n",
              "│ conv2d (\u001b[38;5;33mConv2D\u001b[0m)                 │ (\u001b[38;5;45mNone\u001b[0m, \u001b[38;5;34m126\u001b[0m, \u001b[38;5;34m126\u001b[0m, \u001b[38;5;34m32\u001b[0m)   │           \u001b[38;5;34m896\u001b[0m │\n",
              "├─────────────────────────────────┼────────────────────────┼───────────────┤\n",
              "│ max_pooling2d (\u001b[38;5;33mMaxPooling2D\u001b[0m)    │ (\u001b[38;5;45mNone\u001b[0m, \u001b[38;5;34m63\u001b[0m, \u001b[38;5;34m63\u001b[0m, \u001b[38;5;34m32\u001b[0m)     │             \u001b[38;5;34m0\u001b[0m │\n",
              "├─────────────────────────────────┼────────────────────────┼───────────────┤\n",
              "│ conv2d_1 (\u001b[38;5;33mConv2D\u001b[0m)               │ (\u001b[38;5;45mNone\u001b[0m, \u001b[38;5;34m61\u001b[0m, \u001b[38;5;34m61\u001b[0m, \u001b[38;5;34m64\u001b[0m)     │        \u001b[38;5;34m18,496\u001b[0m │\n",
              "├─────────────────────────────────┼────────────────────────┼───────────────┤\n",
              "│ max_pooling2d_1 (\u001b[38;5;33mMaxPooling2D\u001b[0m)  │ (\u001b[38;5;45mNone\u001b[0m, \u001b[38;5;34m30\u001b[0m, \u001b[38;5;34m30\u001b[0m, \u001b[38;5;34m64\u001b[0m)     │             \u001b[38;5;34m0\u001b[0m │\n",
              "├─────────────────────────────────┼────────────────────────┼───────────────┤\n",
              "│ conv2d_2 (\u001b[38;5;33mConv2D\u001b[0m)               │ (\u001b[38;5;45mNone\u001b[0m, \u001b[38;5;34m28\u001b[0m, \u001b[38;5;34m28\u001b[0m, \u001b[38;5;34m128\u001b[0m)    │        \u001b[38;5;34m73,856\u001b[0m │\n",
              "├─────────────────────────────────┼────────────────────────┼───────────────┤\n",
              "│ max_pooling2d_2 (\u001b[38;5;33mMaxPooling2D\u001b[0m)  │ (\u001b[38;5;45mNone\u001b[0m, \u001b[38;5;34m14\u001b[0m, \u001b[38;5;34m14\u001b[0m, \u001b[38;5;34m128\u001b[0m)    │             \u001b[38;5;34m0\u001b[0m │\n",
              "├─────────────────────────────────┼────────────────────────┼───────────────┤\n",
              "│ flatten (\u001b[38;5;33mFlatten\u001b[0m)               │ (\u001b[38;5;45mNone\u001b[0m, \u001b[38;5;34m25088\u001b[0m)          │             \u001b[38;5;34m0\u001b[0m │\n",
              "├─────────────────────────────────┼────────────────────────┼───────────────┤\n",
              "│ dense (\u001b[38;5;33mDense\u001b[0m)                   │ (\u001b[38;5;45mNone\u001b[0m, \u001b[38;5;34m128\u001b[0m)            │     \u001b[38;5;34m3,211,392\u001b[0m │\n",
              "├─────────────────────────────────┼────────────────────────┼───────────────┤\n",
              "│ dense_1 (\u001b[38;5;33mDense\u001b[0m)                 │ (\u001b[38;5;45mNone\u001b[0m, \u001b[38;5;34m15\u001b[0m)             │         \u001b[38;5;34m1,935\u001b[0m │\n",
              "└─────────────────────────────────┴────────────────────────┴───────────────┘\n"
            ],
            "text/html": [
              "<pre style=\"white-space:pre;overflow-x:auto;line-height:normal;font-family:Menlo,'DejaVu Sans Mono',consolas,'Courier New',monospace\">┏━━━━━━━━━━━━━━━━━━━━━━━━━━━━━━━━━┳━━━━━━━━━━━━━━━━━━━━━━━━┳━━━━━━━━━━━━━━━┓\n",
              "┃<span style=\"font-weight: bold\"> Layer (type)                    </span>┃<span style=\"font-weight: bold\"> Output Shape           </span>┃<span style=\"font-weight: bold\">       Param # </span>┃\n",
              "┡━━━━━━━━━━━━━━━━━━━━━━━━━━━━━━━━━╇━━━━━━━━━━━━━━━━━━━━━━━━╇━━━━━━━━━━━━━━━┩\n",
              "│ conv2d (<span style=\"color: #0087ff; text-decoration-color: #0087ff\">Conv2D</span>)                 │ (<span style=\"color: #00d7ff; text-decoration-color: #00d7ff\">None</span>, <span style=\"color: #00af00; text-decoration-color: #00af00\">126</span>, <span style=\"color: #00af00; text-decoration-color: #00af00\">126</span>, <span style=\"color: #00af00; text-decoration-color: #00af00\">32</span>)   │           <span style=\"color: #00af00; text-decoration-color: #00af00\">896</span> │\n",
              "├─────────────────────────────────┼────────────────────────┼───────────────┤\n",
              "│ max_pooling2d (<span style=\"color: #0087ff; text-decoration-color: #0087ff\">MaxPooling2D</span>)    │ (<span style=\"color: #00d7ff; text-decoration-color: #00d7ff\">None</span>, <span style=\"color: #00af00; text-decoration-color: #00af00\">63</span>, <span style=\"color: #00af00; text-decoration-color: #00af00\">63</span>, <span style=\"color: #00af00; text-decoration-color: #00af00\">32</span>)     │             <span style=\"color: #00af00; text-decoration-color: #00af00\">0</span> │\n",
              "├─────────────────────────────────┼────────────────────────┼───────────────┤\n",
              "│ conv2d_1 (<span style=\"color: #0087ff; text-decoration-color: #0087ff\">Conv2D</span>)               │ (<span style=\"color: #00d7ff; text-decoration-color: #00d7ff\">None</span>, <span style=\"color: #00af00; text-decoration-color: #00af00\">61</span>, <span style=\"color: #00af00; text-decoration-color: #00af00\">61</span>, <span style=\"color: #00af00; text-decoration-color: #00af00\">64</span>)     │        <span style=\"color: #00af00; text-decoration-color: #00af00\">18,496</span> │\n",
              "├─────────────────────────────────┼────────────────────────┼───────────────┤\n",
              "│ max_pooling2d_1 (<span style=\"color: #0087ff; text-decoration-color: #0087ff\">MaxPooling2D</span>)  │ (<span style=\"color: #00d7ff; text-decoration-color: #00d7ff\">None</span>, <span style=\"color: #00af00; text-decoration-color: #00af00\">30</span>, <span style=\"color: #00af00; text-decoration-color: #00af00\">30</span>, <span style=\"color: #00af00; text-decoration-color: #00af00\">64</span>)     │             <span style=\"color: #00af00; text-decoration-color: #00af00\">0</span> │\n",
              "├─────────────────────────────────┼────────────────────────┼───────────────┤\n",
              "│ conv2d_2 (<span style=\"color: #0087ff; text-decoration-color: #0087ff\">Conv2D</span>)               │ (<span style=\"color: #00d7ff; text-decoration-color: #00d7ff\">None</span>, <span style=\"color: #00af00; text-decoration-color: #00af00\">28</span>, <span style=\"color: #00af00; text-decoration-color: #00af00\">28</span>, <span style=\"color: #00af00; text-decoration-color: #00af00\">128</span>)    │        <span style=\"color: #00af00; text-decoration-color: #00af00\">73,856</span> │\n",
              "├─────────────────────────────────┼────────────────────────┼───────────────┤\n",
              "│ max_pooling2d_2 (<span style=\"color: #0087ff; text-decoration-color: #0087ff\">MaxPooling2D</span>)  │ (<span style=\"color: #00d7ff; text-decoration-color: #00d7ff\">None</span>, <span style=\"color: #00af00; text-decoration-color: #00af00\">14</span>, <span style=\"color: #00af00; text-decoration-color: #00af00\">14</span>, <span style=\"color: #00af00; text-decoration-color: #00af00\">128</span>)    │             <span style=\"color: #00af00; text-decoration-color: #00af00\">0</span> │\n",
              "├─────────────────────────────────┼────────────────────────┼───────────────┤\n",
              "│ flatten (<span style=\"color: #0087ff; text-decoration-color: #0087ff\">Flatten</span>)               │ (<span style=\"color: #00d7ff; text-decoration-color: #00d7ff\">None</span>, <span style=\"color: #00af00; text-decoration-color: #00af00\">25088</span>)          │             <span style=\"color: #00af00; text-decoration-color: #00af00\">0</span> │\n",
              "├─────────────────────────────────┼────────────────────────┼───────────────┤\n",
              "│ dense (<span style=\"color: #0087ff; text-decoration-color: #0087ff\">Dense</span>)                   │ (<span style=\"color: #00d7ff; text-decoration-color: #00d7ff\">None</span>, <span style=\"color: #00af00; text-decoration-color: #00af00\">128</span>)            │     <span style=\"color: #00af00; text-decoration-color: #00af00\">3,211,392</span> │\n",
              "├─────────────────────────────────┼────────────────────────┼───────────────┤\n",
              "│ dense_1 (<span style=\"color: #0087ff; text-decoration-color: #0087ff\">Dense</span>)                 │ (<span style=\"color: #00d7ff; text-decoration-color: #00d7ff\">None</span>, <span style=\"color: #00af00; text-decoration-color: #00af00\">15</span>)             │         <span style=\"color: #00af00; text-decoration-color: #00af00\">1,935</span> │\n",
              "└─────────────────────────────────┴────────────────────────┴───────────────┘\n",
              "</pre>\n"
            ]
          },
          "metadata": {}
        },
        {
          "output_type": "display_data",
          "data": {
            "text/plain": [
              "\u001b[1m Total params: \u001b[0m\u001b[38;5;34m3,306,575\u001b[0m (12.61 MB)\n"
            ],
            "text/html": [
              "<pre style=\"white-space:pre;overflow-x:auto;line-height:normal;font-family:Menlo,'DejaVu Sans Mono',consolas,'Courier New',monospace\"><span style=\"font-weight: bold\"> Total params: </span><span style=\"color: #00af00; text-decoration-color: #00af00\">3,306,575</span> (12.61 MB)\n",
              "</pre>\n"
            ]
          },
          "metadata": {}
        },
        {
          "output_type": "display_data",
          "data": {
            "text/plain": [
              "\u001b[1m Trainable params: \u001b[0m\u001b[38;5;34m3,306,575\u001b[0m (12.61 MB)\n"
            ],
            "text/html": [
              "<pre style=\"white-space:pre;overflow-x:auto;line-height:normal;font-family:Menlo,'DejaVu Sans Mono',consolas,'Courier New',monospace\"><span style=\"font-weight: bold\"> Trainable params: </span><span style=\"color: #00af00; text-decoration-color: #00af00\">3,306,575</span> (12.61 MB)\n",
              "</pre>\n"
            ]
          },
          "metadata": {}
        },
        {
          "output_type": "display_data",
          "data": {
            "text/plain": [
              "\u001b[1m Non-trainable params: \u001b[0m\u001b[38;5;34m0\u001b[0m (0.00 B)\n"
            ],
            "text/html": [
              "<pre style=\"white-space:pre;overflow-x:auto;line-height:normal;font-family:Menlo,'DejaVu Sans Mono',consolas,'Courier New',monospace\"><span style=\"font-weight: bold\"> Non-trainable params: </span><span style=\"color: #00af00; text-decoration-color: #00af00\">0</span> (0.00 B)\n",
              "</pre>\n"
            ]
          },
          "metadata": {}
        },
        {
          "output_type": "stream",
          "name": "stderr",
          "text": [
            "/usr/local/lib/python3.12/dist-packages/keras/src/trainers/data_adapters/py_dataset_adapter.py:121: UserWarning: Your `PyDataset` class should call `super().__init__(**kwargs)` in its constructor. `**kwargs` can include `workers`, `use_multiprocessing`, `max_queue_size`. Do not pass these arguments to `fit()`, as they will be ignored.\n",
            "  self._warn_if_super_not_called()\n"
          ]
        },
        {
          "output_type": "stream",
          "name": "stdout",
          "text": [
            "Epoch 1/5\n",
            "\u001b[1m516/516\u001b[0m \u001b[32m━━━━━━━━━━━━━━━━━━━━\u001b[0m\u001b[37m\u001b[0m \u001b[1m604s\u001b[0m 1s/step - accuracy: 0.4746 - loss: 1.6314 - val_accuracy: 0.7762 - val_loss: 0.6420\n",
            "Epoch 2/5\n",
            "\u001b[1m516/516\u001b[0m \u001b[32m━━━━━━━━━━━━━━━━━━━━\u001b[0m\u001b[37m\u001b[0m \u001b[1m552s\u001b[0m 1s/step - accuracy: 0.8273 - loss: 0.5165 - val_accuracy: 0.8668 - val_loss: 0.3849\n",
            "Epoch 3/5\n",
            "\u001b[1m516/516\u001b[0m \u001b[32m━━━━━━━━━━━━━━━━━━━━\u001b[0m\u001b[37m\u001b[0m \u001b[1m543s\u001b[0m 1s/step - accuracy: 0.9148 - loss: 0.2633 - val_accuracy: 0.8924 - val_loss: 0.3026\n",
            "Epoch 4/5\n",
            "\u001b[1m516/516\u001b[0m \u001b[32m━━━━━━━━━━━━━━━━━━━━\u001b[0m\u001b[37m\u001b[0m \u001b[1m552s\u001b[0m 1s/step - accuracy: 0.9398 - loss: 0.1731 - val_accuracy: 0.9089 - val_loss: 0.2748\n",
            "Epoch 5/5\n",
            "\u001b[1m516/516\u001b[0m \u001b[32m━━━━━━━━━━━━━━━━━━━━\u001b[0m\u001b[37m\u001b[0m \u001b[1m537s\u001b[0m 1s/step - accuracy: 0.9619 - loss: 0.1109 - val_accuracy: 0.9133 - val_loss: 0.2827\n",
            "\u001b[1m65/65\u001b[0m \u001b[32m━━━━━━━━━━━━━━━━━━━━\u001b[0m\u001b[37m\u001b[0m \u001b[1m21s\u001b[0m 322ms/step\n",
            "📊 CNN Classification Report:\n",
            "                                             precision    recall  f1-score   support\n",
            "\n",
            "              Pepper__bell___Bacterial_spot       0.91      0.84      0.88       100\n",
            "                     Pepper__bell___healthy       0.95      0.97      0.96       148\n",
            "                      Potato___Early_blight       0.97      0.93      0.95       100\n",
            "                       Potato___Late_blight       0.85      0.88      0.87       100\n",
            "                           Potato___healthy       0.83      1.00      0.91        15\n",
            "                      Tomato_Bacterial_spot       0.98      0.98      0.98       213\n",
            "                        Tomato_Early_blight       0.65      0.81      0.72       100\n",
            "                         Tomato_Late_blight       0.93      0.80      0.86       191\n",
            "                           Tomato_Leaf_Mold       0.92      0.83      0.87        95\n",
            "                  Tomato_Septoria_leaf_spot       0.83      0.82      0.83       177\n",
            "Tomato_Spider_mites_Two_spotted_spider_mite       0.93      0.90      0.92       168\n",
            "                        Tomato__Target_Spot       0.83      0.96      0.89       140\n",
            "      Tomato__Tomato_YellowLeaf__Curl_Virus       0.98      0.99      0.99       321\n",
            "                Tomato__Tomato_mosaic_virus       0.92      0.95      0.93        37\n",
            "                             Tomato_healthy       0.99      0.97      0.98       159\n",
            "\n",
            "                                   accuracy                           0.91      2064\n",
            "                                  macro avg       0.90      0.91      0.90      2064\n",
            "                               weighted avg       0.92      0.91      0.91      2064\n",
            "\n",
            "Epoch 1/10\n"
          ]
        },
        {
          "output_type": "stream",
          "name": "stderr",
          "text": [
            "/usr/local/lib/python3.12/dist-packages/keras/src/layers/core/dense.py:93: UserWarning: Do not pass an `input_shape`/`input_dim` argument to a layer. When using Sequential models, prefer using an `Input(shape)` object as the first layer in the model instead.\n",
            "  super().__init__(activity_regularizer=activity_regularizer, **kwargs)\n"
          ]
        },
        {
          "output_type": "stream",
          "name": "stdout",
          "text": [
            "\u001b[1m73/73\u001b[0m \u001b[32m━━━━━━━━━━━━━━━━━━━━\u001b[0m\u001b[37m\u001b[0m \u001b[1m2s\u001b[0m 8ms/step - accuracy: 0.1039 - loss: 2.6669 - val_accuracy: 0.2650 - val_loss: 2.3891\n",
            "Epoch 2/10\n",
            "\u001b[1m73/73\u001b[0m \u001b[32m━━━━━━━━━━━━━━━━━━━━\u001b[0m\u001b[37m\u001b[0m \u001b[1m1s\u001b[0m 6ms/step - accuracy: 0.3002 - loss: 2.2727 - val_accuracy: 0.3333 - val_loss: 2.1095\n",
            "Epoch 3/10\n",
            "\u001b[1m73/73\u001b[0m \u001b[32m━━━━━━━━━━━━━━━━━━━━\u001b[0m\u001b[37m\u001b[0m \u001b[1m0s\u001b[0m 5ms/step - accuracy: 0.3810 - loss: 1.9868 - val_accuracy: 0.3812 - val_loss: 1.9094\n",
            "Epoch 4/10\n",
            "\u001b[1m73/73\u001b[0m \u001b[32m━━━━━━━━━━━━━━━━━━━━\u001b[0m\u001b[37m\u001b[0m \u001b[1m1s\u001b[0m 4ms/step - accuracy: 0.4526 - loss: 1.7769 - val_accuracy: 0.4188 - val_loss: 1.7580\n",
            "Epoch 5/10\n",
            "\u001b[1m73/73\u001b[0m \u001b[32m━━━━━━━━━━━━━━━━━━━━\u001b[0m\u001b[37m\u001b[0m \u001b[1m0s\u001b[0m 5ms/step - accuracy: 0.5021 - loss: 1.6327 - val_accuracy: 0.4803 - val_loss: 1.6249\n",
            "Epoch 6/10\n",
            "\u001b[1m73/73\u001b[0m \u001b[32m━━━━━━━━━━━━━━━━━━━━\u001b[0m\u001b[37m\u001b[0m \u001b[1m0s\u001b[0m 5ms/step - accuracy: 0.5269 - loss: 1.5212 - val_accuracy: 0.4974 - val_loss: 1.5328\n",
            "Epoch 7/10\n",
            "\u001b[1m73/73\u001b[0m \u001b[32m━━━━━━━━━━━━━━━━━━━━\u001b[0m\u001b[37m\u001b[0m \u001b[1m1s\u001b[0m 6ms/step - accuracy: 0.5619 - loss: 1.4381 - val_accuracy: 0.5368 - val_loss: 1.4594\n",
            "Epoch 8/10\n",
            "\u001b[1m73/73\u001b[0m \u001b[32m━━━━━━━━━━━━━━━━━━━━\u001b[0m\u001b[37m\u001b[0m \u001b[1m0s\u001b[0m 4ms/step - accuracy: 0.5664 - loss: 1.3937 - val_accuracy: 0.5538 - val_loss: 1.4073\n",
            "Epoch 9/10\n",
            "\u001b[1m73/73\u001b[0m \u001b[32m━━━━━━━━━━━━━━━━━━━━\u001b[0m\u001b[37m\u001b[0m \u001b[1m0s\u001b[0m 5ms/step - accuracy: 0.5847 - loss: 1.3178 - val_accuracy: 0.5829 - val_loss: 1.3478\n",
            "Epoch 10/10\n",
            "\u001b[1m73/73\u001b[0m \u001b[32m━━━━━━━━━━━━━━━━━━━━\u001b[0m\u001b[37m\u001b[0m \u001b[1m1s\u001b[0m 4ms/step - accuracy: 0.5963 - loss: 1.2615 - val_accuracy: 0.5949 - val_loss: 1.3048\n",
            "\u001b[1m19/19\u001b[0m \u001b[32m━━━━━━━━━━━━━━━━━━━━\u001b[0m\u001b[37m\u001b[0m \u001b[1m0s\u001b[0m 5ms/step\n",
            "📊 Tabular NN Classification Report:\n",
            "                                             precision    recall  f1-score   support\n",
            "\n",
            "              Pepper__bell___Bacterial_spot       0.49      0.67      0.57        39\n",
            "                           Potato___healthy       0.69      0.71      0.70        28\n",
            "                           Tomato_Leaf_Mold       0.63      0.39      0.48        49\n",
            "      Tomato__Tomato_YellowLeaf__Curl_Virus       0.65      0.61      0.63        36\n",
            "                      Tomato_Bacterial_spot       0.67      0.76      0.72        38\n",
            "                  Tomato_Septoria_leaf_spot       0.44      0.66      0.53        35\n",
            "                             Tomato_healthy       0.62      0.70      0.66        37\n",
            "Tomato_Spider_mites_Two_spotted_spider_mite       0.57      0.57      0.57        40\n",
            "                        Tomato_Early_blight       0.39      0.53      0.45        30\n",
            "                        Tomato__Target_Spot       0.74      0.74      0.74        42\n",
            "                     Pepper__bell___healthy       0.56      0.57      0.56        35\n",
            "                       Potato___Late_blight       0.52      0.31      0.39        42\n",
            "                         Tomato_Late_blight       0.45      0.33      0.38        46\n",
            "                      Potato___Early_blight       0.82      0.71      0.76        52\n",
            "                Tomato__Tomato_mosaic_virus       0.70      0.78      0.74        36\n",
            "\n",
            "                                   accuracy                           0.59       585\n",
            "                                  macro avg       0.60      0.60      0.59       585\n",
            "                               weighted avg       0.60      0.59      0.59       585\n",
            "\n"
          ]
        }
      ],
      "source": [
        "# ================================\n",
        "# 1. Setup & Imports\n",
        "# ================================\n",
        "import os\n",
        "import numpy as np\n",
        "import tensorflow as tf\n",
        "from tensorflow.keras.preprocessing.image import ImageDataGenerator\n",
        "from tensorflow.keras import layers, models, Sequential\n",
        "from tensorflow.keras.layers import Dense\n",
        "from sklearn.metrics import classification_report\n",
        "from sklearn.model_selection import train_test_split\n",
        "from sklearn.preprocessing import StandardScaler\n",
        "from PIL import Image\n",
        "\n",
        "# ================================\n",
        "# 2. Dataset Paths\n",
        "# ================================\n",
        "base_dir = \"/kaggle/input/plantvillage/dataset\"\n",
        "train_dir = os.path.join(base_dir, \"train\")\n",
        "test_dir = os.path.join(base_dir, \"test\")\n",
        "\n",
        "print(\"📂 Train dir:\", train_dir)\n",
        "print(\"📂 Test dir:\", test_dir)\n",
        "\n",
        "# ================================\n",
        "# 3. Data Generators (for CNN)\n",
        "# ================================\n",
        "img_size = (128, 128)\n",
        "batch_size = 32\n",
        "\n",
        "train_datagen = ImageDataGenerator(rescale=1./255)\n",
        "test_datagen = ImageDataGenerator(rescale=1./255)\n",
        "\n",
        "train_gen = train_datagen.flow_from_directory(\n",
        "    train_dir, target_size=img_size, batch_size=batch_size, class_mode='categorical'\n",
        ")\n",
        "\n",
        "test_gen = test_datagen.flow_from_directory(\n",
        "    test_dir, target_size=img_size, batch_size=batch_size,\n",
        "    class_mode='categorical', shuffle=False\n",
        ")\n",
        "\n",
        "# ================================\n",
        "# 4. CNN Model\n",
        "# ================================\n",
        "cnn = models.Sequential([\n",
        "    layers.Input(shape=(128,128,3)),\n",
        "    layers.Conv2D(32, (3,3), activation='relu'),\n",
        "    layers.MaxPooling2D(2,2),\n",
        "    layers.Conv2D(64, (3,3), activation='relu'),\n",
        "    layers.MaxPooling2D(2,2),\n",
        "    layers.Conv2D(128, (3,3), activation='relu'),\n",
        "    layers.MaxPooling2D(2,2),\n",
        "    layers.Flatten(),\n",
        "    layers.Dense(128, activation='relu'),\n",
        "    layers.Dense(train_gen.num_classes, activation='softmax')\n",
        "])\n",
        "\n",
        "cnn.compile(optimizer='adam', loss='categorical_crossentropy', metrics=['accuracy'])\n",
        "cnn.summary()\n",
        "\n",
        "# Train CNN\n",
        "history_cnn = cnn.fit(train_gen, validation_data=test_gen, epochs=5)\n",
        "\n",
        "# ================================\n",
        "# 5. CNN Evaluation\n",
        "# ================================\n",
        "y_pred_cnn = cnn.predict(test_gen)\n",
        "y_pred_cnn_classes = y_pred_cnn.argmax(axis=1)\n",
        "y_true_cnn = test_gen.classes\n",
        "\n",
        "print(\"📊 CNN Classification Report:\")\n",
        "print(classification_report(y_true_cnn, y_pred_cnn_classes, target_names=list(test_gen.class_indices.keys())))\n",
        "\n",
        "# ================================\n",
        "# 6. Feature Extraction for Tabular NN\n",
        "# ================================\n",
        "def extract_features(img_path):\n",
        "    img = Image.open(img_path).resize((128,128))\n",
        "    img_arr = np.array(img)\n",
        "\n",
        "    # RGB mean & std\n",
        "    features = []\n",
        "    for i in range(3):  # R, G, B\n",
        "        channel = img_arr[:,:,i]\n",
        "        features.append(channel.mean())\n",
        "        features.append(channel.std())\n",
        "\n",
        "    # Grayscale histogram (16 bins)\n",
        "    gray = img.convert(\"L\")\n",
        "    hist = np.histogram(np.array(gray), bins=16, range=(0,256))[0]\n",
        "    hist = hist / hist.sum()\n",
        "    features.extend(hist)\n",
        "\n",
        "    return features\n",
        "\n",
        "X, y = [], []\n",
        "class_labels = os.listdir(train_dir)\n",
        "\n",
        "for label_idx, label in enumerate(class_labels):\n",
        "    class_folder = os.path.join(train_dir, label)\n",
        "    for img_name in os.listdir(class_folder)[:200]:  # limit to speed up\n",
        "        img_path = os.path.join(class_folder, img_name)\n",
        "        try:\n",
        "            feats = extract_features(img_path)\n",
        "            X.append(feats)\n",
        "            y.append(label_idx)\n",
        "        except:\n",
        "            continue\n",
        "\n",
        "X = np.array(X)\n",
        "y = np.array(y)\n",
        "\n",
        "# Split\n",
        "X_train, X_test, y_train, y_test = train_test_split(X, y, test_size=0.2, random_state=42)\n",
        "\n",
        "# Normalize\n",
        "scaler = StandardScaler()\n",
        "X_train = scaler.fit_transform(X_train)\n",
        "X_test = scaler.transform(X_test)\n",
        "\n",
        "# ================================\n",
        "# 7. Tabular NN\n",
        "# ================================\n",
        "tab_nn = Sequential([\n",
        "    Dense(64, activation=\"relu\", input_shape=(X_train.shape[1],)),\n",
        "    Dense(32, activation=\"relu\"),\n",
        "    Dense(len(class_labels), activation=\"softmax\")\n",
        "])\n",
        "\n",
        "tab_nn.compile(optimizer=\"adam\", loss=\"sparse_categorical_crossentropy\", metrics=[\"accuracy\"])\n",
        "tab_nn.fit(X_train, y_train, validation_data=(X_test, y_test), epochs=10, batch_size=32)\n",
        "\n",
        "# Evaluate\n",
        "y_pred_tab = tab_nn.predict(X_test).argmax(axis=1)\n",
        "\n",
        "print(\"📊 Tabular NN Classification Report:\")\n",
        "print(classification_report(y_test, y_pred_tab, target_names=class_labels))\n"
      ]
    },
    {
      "cell_type": "code",
      "execution_count": 11,
      "metadata": {
        "id": "7yRFsU5qN5-K",
        "colab": {
          "base_uri": "https://localhost:8080/"
        },
        "outputId": "78ca0b23-c078-409d-dede-6be793f93a5d"
      },
      "outputs": [
        {
          "output_type": "stream",
          "name": "stderr",
          "text": [
            "/usr/local/lib/python3.12/dist-packages/keras/src/layers/core/dense.py:93: UserWarning: Do not pass an `input_shape`/`input_dim` argument to a layer. When using Sequential models, prefer using an `Input(shape)` object as the first layer in the model instead.\n",
            "  super().__init__(activity_regularizer=activity_regularizer, **kwargs)\n"
          ]
        },
        {
          "output_type": "stream",
          "name": "stdout",
          "text": [
            "Epoch 1/30\n",
            "\u001b[1m73/73\u001b[0m \u001b[32m━━━━━━━━━━━━━━━━━━━━\u001b[0m\u001b[37m\u001b[0m \u001b[1m3s\u001b[0m 10ms/step - accuracy: 0.1573 - loss: 2.5928 - val_accuracy: 0.3231 - val_loss: 2.1328\n",
            "Epoch 2/30\n",
            "\u001b[1m73/73\u001b[0m \u001b[32m━━━━━━━━━━━━━━━━━━━━\u001b[0m\u001b[37m\u001b[0m \u001b[1m0s\u001b[0m 6ms/step - accuracy: 0.3532 - loss: 2.0495 - val_accuracy: 0.4188 - val_loss: 1.7733\n",
            "Epoch 3/30\n",
            "\u001b[1m73/73\u001b[0m \u001b[32m━━━━━━━━━━━━━━━━━━━━\u001b[0m\u001b[37m\u001b[0m \u001b[1m1s\u001b[0m 6ms/step - accuracy: 0.4488 - loss: 1.7551 - val_accuracy: 0.5231 - val_loss: 1.5244\n",
            "Epoch 4/30\n",
            "\u001b[1m73/73\u001b[0m \u001b[32m━━━━━━━━━━━━━━━━━━━━\u001b[0m\u001b[37m\u001b[0m \u001b[1m1s\u001b[0m 7ms/step - accuracy: 0.4927 - loss: 1.5806 - val_accuracy: 0.5692 - val_loss: 1.3852\n",
            "Epoch 5/30\n",
            "\u001b[1m73/73\u001b[0m \u001b[32m━━━━━━━━━━━━━━━━━━━━\u001b[0m\u001b[37m\u001b[0m \u001b[1m1s\u001b[0m 7ms/step - accuracy: 0.5261 - loss: 1.4510 - val_accuracy: 0.6017 - val_loss: 1.2824\n",
            "Epoch 6/30\n",
            "\u001b[1m73/73\u001b[0m \u001b[32m━━━━━━━━━━━━━━━━━━━━\u001b[0m\u001b[37m\u001b[0m \u001b[1m0s\u001b[0m 5ms/step - accuracy: 0.5698 - loss: 1.3126 - val_accuracy: 0.6205 - val_loss: 1.2010\n",
            "Epoch 7/30\n",
            "\u001b[1m73/73\u001b[0m \u001b[32m━━━━━━━━━━━━━━━━━━━━\u001b[0m\u001b[37m\u001b[0m \u001b[1m0s\u001b[0m 6ms/step - accuracy: 0.5709 - loss: 1.2370 - val_accuracy: 0.6325 - val_loss: 1.1457\n",
            "Epoch 8/30\n",
            "\u001b[1m73/73\u001b[0m \u001b[32m━━━━━━━━━━━━━━━━━━━━\u001b[0m\u001b[37m\u001b[0m \u001b[1m1s\u001b[0m 5ms/step - accuracy: 0.5978 - loss: 1.2086 - val_accuracy: 0.6752 - val_loss: 1.0789\n",
            "Epoch 9/30\n",
            "\u001b[1m73/73\u001b[0m \u001b[32m━━━━━━━━━━━━━━━━━━━━\u001b[0m\u001b[37m\u001b[0m \u001b[1m0s\u001b[0m 6ms/step - accuracy: 0.6201 - loss: 1.1343 - val_accuracy: 0.6650 - val_loss: 1.0562\n",
            "Epoch 10/30\n",
            "\u001b[1m73/73\u001b[0m \u001b[32m━━━━━━━━━━━━━━━━━━━━\u001b[0m\u001b[37m\u001b[0m \u001b[1m1s\u001b[0m 6ms/step - accuracy: 0.6172 - loss: 1.0991 - val_accuracy: 0.6701 - val_loss: 1.0382\n",
            "Epoch 11/30\n",
            "\u001b[1m73/73\u001b[0m \u001b[32m━━━━━━━━━━━━━━━━━━━━\u001b[0m\u001b[37m\u001b[0m \u001b[1m1s\u001b[0m 7ms/step - accuracy: 0.6435 - loss: 1.0844 - val_accuracy: 0.6957 - val_loss: 0.9874\n",
            "Epoch 12/30\n",
            "\u001b[1m73/73\u001b[0m \u001b[32m━━━━━━━━━━━━━━━━━━━━\u001b[0m\u001b[37m\u001b[0m \u001b[1m0s\u001b[0m 5ms/step - accuracy: 0.6668 - loss: 1.0188 - val_accuracy: 0.6821 - val_loss: 0.9754\n",
            "Epoch 13/30\n",
            "\u001b[1m73/73\u001b[0m \u001b[32m━━━━━━━━━━━━━━━━━━━━\u001b[0m\u001b[37m\u001b[0m \u001b[1m1s\u001b[0m 5ms/step - accuracy: 0.6577 - loss: 1.0203 - val_accuracy: 0.7111 - val_loss: 0.9259\n",
            "Epoch 14/30\n",
            "\u001b[1m73/73\u001b[0m \u001b[32m━━━━━━━━━━━━━━━━━━━━\u001b[0m\u001b[37m\u001b[0m \u001b[1m0s\u001b[0m 5ms/step - accuracy: 0.6586 - loss: 0.9832 - val_accuracy: 0.7026 - val_loss: 0.9093\n",
            "Epoch 15/30\n",
            "\u001b[1m73/73\u001b[0m \u001b[32m━━━━━━━━━━━━━━━━━━━━\u001b[0m\u001b[37m\u001b[0m \u001b[1m0s\u001b[0m 6ms/step - accuracy: 0.6677 - loss: 0.9419 - val_accuracy: 0.7128 - val_loss: 0.9070\n",
            "Epoch 16/30\n",
            "\u001b[1m73/73\u001b[0m \u001b[32m━━━━━━━━━━━━━━━━━━━━\u001b[0m\u001b[37m\u001b[0m \u001b[1m0s\u001b[0m 5ms/step - accuracy: 0.7000 - loss: 0.8956 - val_accuracy: 0.7299 - val_loss: 0.8695\n",
            "Epoch 17/30\n",
            "\u001b[1m73/73\u001b[0m \u001b[32m━━━━━━━━━━━━━━━━━━━━\u001b[0m\u001b[37m\u001b[0m \u001b[1m1s\u001b[0m 7ms/step - accuracy: 0.7040 - loss: 0.8950 - val_accuracy: 0.7402 - val_loss: 0.8570\n",
            "Epoch 18/30\n",
            "\u001b[1m73/73\u001b[0m \u001b[32m━━━━━━━━━━━━━━━━━━━━\u001b[0m\u001b[37m\u001b[0m \u001b[1m1s\u001b[0m 9ms/step - accuracy: 0.7285 - loss: 0.8550 - val_accuracy: 0.7197 - val_loss: 0.8824\n",
            "Epoch 19/30\n",
            "\u001b[1m73/73\u001b[0m \u001b[32m━━━━━━━━━━━━━━━━━━━━\u001b[0m\u001b[37m\u001b[0m \u001b[1m1s\u001b[0m 10ms/step - accuracy: 0.7202 - loss: 0.8607 - val_accuracy: 0.7521 - val_loss: 0.8249\n",
            "Epoch 20/30\n",
            "\u001b[1m73/73\u001b[0m \u001b[32m━━━━━━━━━━━━━━━━━━━━\u001b[0m\u001b[37m\u001b[0m \u001b[1m1s\u001b[0m 5ms/step - accuracy: 0.7217 - loss: 0.8093 - val_accuracy: 0.7350 - val_loss: 0.8409\n",
            "Epoch 21/30\n",
            "\u001b[1m73/73\u001b[0m \u001b[32m━━━━━━━━━━━━━━━━━━━━\u001b[0m\u001b[37m\u001b[0m \u001b[1m0s\u001b[0m 5ms/step - accuracy: 0.7458 - loss: 0.7990 - val_accuracy: 0.7385 - val_loss: 0.8423\n",
            "Epoch 22/30\n",
            "\u001b[1m73/73\u001b[0m \u001b[32m━━━━━━━━━━━━━━━━━━━━\u001b[0m\u001b[37m\u001b[0m \u001b[1m0s\u001b[0m 5ms/step - accuracy: 0.7106 - loss: 0.8124 - val_accuracy: 0.7590 - val_loss: 0.8015\n",
            "Epoch 23/30\n",
            "\u001b[1m73/73\u001b[0m \u001b[32m━━━━━━━━━━━━━━━━━━━━\u001b[0m\u001b[37m\u001b[0m \u001b[1m1s\u001b[0m 5ms/step - accuracy: 0.7406 - loss: 0.7562 - val_accuracy: 0.7538 - val_loss: 0.8075\n",
            "Epoch 24/30\n",
            "\u001b[1m73/73\u001b[0m \u001b[32m━━━━━━━━━━━━━━━━━━━━\u001b[0m\u001b[37m\u001b[0m \u001b[1m1s\u001b[0m 7ms/step - accuracy: 0.7282 - loss: 0.7785 - val_accuracy: 0.7556 - val_loss: 0.7933\n",
            "Epoch 25/30\n",
            "\u001b[1m73/73\u001b[0m \u001b[32m━━━━━━━━━━━━━━━━━━━━\u001b[0m\u001b[37m\u001b[0m \u001b[1m1s\u001b[0m 6ms/step - accuracy: 0.7606 - loss: 0.7291 - val_accuracy: 0.7436 - val_loss: 0.8025\n",
            "Epoch 26/30\n",
            "\u001b[1m73/73\u001b[0m \u001b[32m━━━━━━━━━━━━━━━━━━━━\u001b[0m\u001b[37m\u001b[0m \u001b[1m1s\u001b[0m 5ms/step - accuracy: 0.7443 - loss: 0.7396 - val_accuracy: 0.7573 - val_loss: 0.7967\n",
            "Epoch 27/30\n",
            "\u001b[1m73/73\u001b[0m \u001b[32m━━━━━━━━━━━━━━━━━━━━\u001b[0m\u001b[37m\u001b[0m \u001b[1m0s\u001b[0m 6ms/step - accuracy: 0.7390 - loss: 0.7429 - val_accuracy: 0.7744 - val_loss: 0.7365\n",
            "Epoch 28/30\n",
            "\u001b[1m73/73\u001b[0m \u001b[32m━━━━━━━━━━━━━━━━━━━━\u001b[0m\u001b[37m\u001b[0m \u001b[1m0s\u001b[0m 4ms/step - accuracy: 0.7637 - loss: 0.6812 - val_accuracy: 0.7795 - val_loss: 0.7450\n",
            "Epoch 29/30\n",
            "\u001b[1m73/73\u001b[0m \u001b[32m━━━━━━━━━━━━━━━━━━━━\u001b[0m\u001b[37m\u001b[0m \u001b[1m0s\u001b[0m 5ms/step - accuracy: 0.7987 - loss: 0.6271 - val_accuracy: 0.7726 - val_loss: 0.7913\n",
            "Epoch 30/30\n",
            "\u001b[1m73/73\u001b[0m \u001b[32m━━━━━━━━━━━━━━━━━━━━\u001b[0m\u001b[37m\u001b[0m \u001b[1m1s\u001b[0m 5ms/step - accuracy: 0.7735 - loss: 0.6726 - val_accuracy: 0.7795 - val_loss: 0.7578\n",
            "\u001b[1m19/19\u001b[0m \u001b[32m━━━━━━━━━━━━━━━━━━━━\u001b[0m\u001b[37m\u001b[0m \u001b[1m0s\u001b[0m 5ms/step\n",
            "📊 Improved Tabular NN Classification Report:\n",
            "                                             precision    recall  f1-score   support\n",
            "\n",
            "              Pepper__bell___Bacterial_spot       0.82      0.79      0.81        39\n",
            "                           Potato___healthy       0.75      0.86      0.80        28\n",
            "                           Tomato_Leaf_Mold       0.85      0.82      0.83        49\n",
            "      Tomato__Tomato_YellowLeaf__Curl_Virus       0.84      0.72      0.78        36\n",
            "                      Tomato_Bacterial_spot       0.84      0.82      0.83        38\n",
            "                  Tomato_Septoria_leaf_spot       0.63      0.74      0.68        35\n",
            "                             Tomato_healthy       0.81      0.95      0.88        37\n",
            "Tomato_Spider_mites_Two_spotted_spider_mite       0.71      0.72      0.72        40\n",
            "                        Tomato_Early_blight       0.61      0.63      0.62        30\n",
            "                        Tomato__Target_Spot       0.73      0.76      0.74        42\n",
            "                     Pepper__bell___healthy       0.67      0.83      0.74        35\n",
            "                       Potato___Late_blight       0.75      0.79      0.77        42\n",
            "                         Tomato_Late_blight       0.79      0.50      0.61        46\n",
            "                      Potato___Early_blight       0.96      0.83      0.89        52\n",
            "                Tomato__Tomato_mosaic_virus       0.90      0.97      0.93        36\n",
            "\n",
            "                                   accuracy                           0.78       585\n",
            "                                  macro avg       0.78      0.78      0.78       585\n",
            "                               weighted avg       0.79      0.78      0.78       585\n",
            "\n"
          ]
        }
      ],
      "source": [
        "tab_nn = Sequential([\n",
        "    Dense(64, activation=\"relu\", input_shape=(X_train.shape[1],)),\n",
        "    Dense(32, activation=\"relu\"),\n",
        "    Dense(len(class_labels), activation=\"softmax\")\n",
        "])\n",
        "from tensorflow.keras.layers import Dropout\n",
        "\n",
        "tab_nn = Sequential([\n",
        "    Dense(256, activation=\"relu\", input_shape=(X_train.shape[1],)),\n",
        "    Dropout(0.3),\n",
        "    Dense(128, activation=\"relu\"),\n",
        "    Dropout(0.3),\n",
        "    Dense(64, activation=\"relu\"),\n",
        "    Dense(len(class_labels), activation=\"softmax\")\n",
        "])\n",
        "\n",
        "tab_nn.compile(optimizer=\"adam\", loss=\"sparse_categorical_crossentropy\", metrics=[\"accuracy\"])\n",
        "\n",
        "history_tab = tab_nn.fit(\n",
        "    X_train, y_train,\n",
        "    validation_data=(X_test, y_test),\n",
        "    epochs=30,  # more epochs\n",
        "    batch_size=32,\n",
        "    verbose=1\n",
        ")\n",
        "\n",
        "# Evaluate\n",
        "y_pred_tab = tab_nn.predict(X_test).argmax(axis=1)\n",
        "\n",
        "print(\"📊 Improved Tabular NN Classification Report:\")\n",
        "print(classification_report(y_test, y_pred_tab, target_names=class_labels))\n"
      ]
    },
    {
      "cell_type": "code",
      "source": [
        "from scipy.stats import skew, kurtosis\n",
        "\n",
        "def extract_features(img_path):\n",
        "    img = Image.open(img_path).resize((128,128))\n",
        "    img_arr = np.array(img)\n",
        "\n",
        "    features = []\n",
        "\n",
        "    # --- RGB statistics ---\n",
        "    for i in range(3):  # R, G, B\n",
        "        channel = img_arr[:,:,i].flatten()\n",
        "        features.append(channel.mean())\n",
        "        features.append(channel.std())\n",
        "        features.append(np.var(channel))\n",
        "        features.append(skew(channel))\n",
        "        features.append(kurtosis(channel))\n",
        "\n",
        "        # RGB histogram (16 bins)\n",
        "        hist = np.histogram(channel, bins=16, range=(0,256))[0]\n",
        "        hist = hist / hist.sum()\n",
        "        features.extend(hist)\n",
        "\n",
        "    # --- Grayscale histogram (32 bins) ---\n",
        "    gray = img.convert(\"L\")\n",
        "    hist_gray = np.histogram(np.array(gray), bins=32, range=(0,256))[0]\n",
        "    hist_gray = hist_gray / hist_gray.sum()\n",
        "    features.extend(hist_gray)\n",
        "\n",
        "    return features\n"
      ],
      "metadata": {
        "id": "xrx0iy2VxZPl"
      },
      "execution_count": 12,
      "outputs": []
    },
    {
      "cell_type": "code",
      "source": [
        "from tensorflow.keras.layers import Dropout\n",
        "\n",
        "tab_nn = Sequential([\n",
        "    Dense(512, activation=\"relu\", input_shape=(X_train.shape[1],)),\n",
        "    Dropout(0.4),\n",
        "    Dense(256, activation=\"relu\"),\n",
        "    Dropout(0.3),\n",
        "    Dense(128, activation=\"relu\"),\n",
        "    Dense(len(class_labels), activation=\"softmax\")\n",
        "])\n",
        "\n",
        "tab_nn.compile(optimizer=\"adam\", loss=\"sparse_categorical_crossentropy\", metrics=[\"accuracy\"])\n",
        "\n",
        "history_tab = tab_nn.fit(\n",
        "    X_train, y_train,\n",
        "    validation_data=(X_test, y_test),\n",
        "    epochs=50,   # train longer\n",
        "    batch_size=64,\n",
        "    verbose=1\n",
        ")\n"
      ],
      "metadata": {
        "colab": {
          "base_uri": "https://localhost:8080/"
        },
        "id": "ymT2ur6vxZ8L",
        "outputId": "802c860c-1c50-4c69-8f5a-b744c5d9403a"
      },
      "execution_count": 13,
      "outputs": [
        {
          "output_type": "stream",
          "name": "stdout",
          "text": [
            "Epoch 1/50\n"
          ]
        },
        {
          "output_type": "stream",
          "name": "stderr",
          "text": [
            "/usr/local/lib/python3.12/dist-packages/keras/src/layers/core/dense.py:93: UserWarning: Do not pass an `input_shape`/`input_dim` argument to a layer. When using Sequential models, prefer using an `Input(shape)` object as the first layer in the model instead.\n",
            "  super().__init__(activity_regularizer=activity_regularizer, **kwargs)\n"
          ]
        },
        {
          "output_type": "stream",
          "name": "stdout",
          "text": [
            "\u001b[1m37/37\u001b[0m \u001b[32m━━━━━━━━━━━━━━━━━━━━\u001b[0m\u001b[37m\u001b[0m \u001b[1m2s\u001b[0m 14ms/step - accuracy: 0.1934 - loss: 2.5181 - val_accuracy: 0.3111 - val_loss: 2.0947\n",
            "Epoch 2/50\n",
            "\u001b[1m37/37\u001b[0m \u001b[32m━━━━━━━━━━━━━━━━━━━━\u001b[0m\u001b[37m\u001b[0m \u001b[1m0s\u001b[0m 9ms/step - accuracy: 0.3401 - loss: 1.9991 - val_accuracy: 0.4205 - val_loss: 1.7652\n",
            "Epoch 3/50\n",
            "\u001b[1m37/37\u001b[0m \u001b[32m━━━━━━━━━━━━━━━━━━━━\u001b[0m\u001b[37m\u001b[0m \u001b[1m1s\u001b[0m 9ms/step - accuracy: 0.4684 - loss: 1.6804 - val_accuracy: 0.5402 - val_loss: 1.4586\n",
            "Epoch 4/50\n",
            "\u001b[1m37/37\u001b[0m \u001b[32m━━━━━━━━━━━━━━━━━━━━\u001b[0m\u001b[37m\u001b[0m \u001b[1m1s\u001b[0m 9ms/step - accuracy: 0.5092 - loss: 1.4762 - val_accuracy: 0.5761 - val_loss: 1.3612\n",
            "Epoch 5/50\n",
            "\u001b[1m37/37\u001b[0m \u001b[32m━━━━━━━━━━━━━━━━━━━━\u001b[0m\u001b[37m\u001b[0m \u001b[1m1s\u001b[0m 9ms/step - accuracy: 0.5678 - loss: 1.3680 - val_accuracy: 0.6017 - val_loss: 1.2441\n",
            "Epoch 6/50\n",
            "\u001b[1m37/37\u001b[0m \u001b[32m━━━━━━━━━━━━━━━━━━━━\u001b[0m\u001b[37m\u001b[0m \u001b[1m1s\u001b[0m 9ms/step - accuracy: 0.5848 - loss: 1.2251 - val_accuracy: 0.6068 - val_loss: 1.2057\n",
            "Epoch 7/50\n",
            "\u001b[1m37/37\u001b[0m \u001b[32m━━━━━━━━━━━━━━━━━━━━\u001b[0m\u001b[37m\u001b[0m \u001b[1m1s\u001b[0m 11ms/step - accuracy: 0.6050 - loss: 1.1800 - val_accuracy: 0.6256 - val_loss: 1.1684\n",
            "Epoch 8/50\n",
            "\u001b[1m37/37\u001b[0m \u001b[32m━━━━━━━━━━━━━━━━━━━━\u001b[0m\u001b[37m\u001b[0m \u001b[1m1s\u001b[0m 11ms/step - accuracy: 0.6135 - loss: 1.1235 - val_accuracy: 0.6325 - val_loss: 1.1126\n",
            "Epoch 9/50\n",
            "\u001b[1m37/37\u001b[0m \u001b[32m━━━━━━━━━━━━━━━━━━━━\u001b[0m\u001b[37m\u001b[0m \u001b[1m1s\u001b[0m 9ms/step - accuracy: 0.6609 - loss: 1.0113 - val_accuracy: 0.6701 - val_loss: 1.0630\n",
            "Epoch 10/50\n",
            "\u001b[1m37/37\u001b[0m \u001b[32m━━━━━━━━━━━━━━━━━━━━\u001b[0m\u001b[37m\u001b[0m \u001b[1m1s\u001b[0m 10ms/step - accuracy: 0.6391 - loss: 1.0512 - val_accuracy: 0.6872 - val_loss: 0.9867\n",
            "Epoch 11/50\n",
            "\u001b[1m37/37\u001b[0m \u001b[32m━━━━━━━━━━━━━━━━━━━━\u001b[0m\u001b[37m\u001b[0m \u001b[1m0s\u001b[0m 9ms/step - accuracy: 0.6618 - loss: 0.9779 - val_accuracy: 0.6957 - val_loss: 0.9226\n",
            "Epoch 12/50\n",
            "\u001b[1m37/37\u001b[0m \u001b[32m━━━━━━━━━━━━━━━━━━━━\u001b[0m\u001b[37m\u001b[0m \u001b[1m0s\u001b[0m 9ms/step - accuracy: 0.6934 - loss: 0.9175 - val_accuracy: 0.7026 - val_loss: 0.9180\n",
            "Epoch 13/50\n",
            "\u001b[1m37/37\u001b[0m \u001b[32m━━━━━━━━━━━━━━━━━━━━\u001b[0m\u001b[37m\u001b[0m \u001b[1m1s\u001b[0m 9ms/step - accuracy: 0.6962 - loss: 0.9142 - val_accuracy: 0.7214 - val_loss: 0.9018\n",
            "Epoch 14/50\n",
            "\u001b[1m37/37\u001b[0m \u001b[32m━━━━━━━━━━━━━━━━━━━━\u001b[0m\u001b[37m\u001b[0m \u001b[1m1s\u001b[0m 13ms/step - accuracy: 0.7154 - loss: 0.8528 - val_accuracy: 0.7316 - val_loss: 0.8659\n",
            "Epoch 15/50\n",
            "\u001b[1m37/37\u001b[0m \u001b[32m━━━━━━━━━━━━━━━━━━━━\u001b[0m\u001b[37m\u001b[0m \u001b[1m1s\u001b[0m 14ms/step - accuracy: 0.7057 - loss: 0.8816 - val_accuracy: 0.7299 - val_loss: 0.8524\n",
            "Epoch 16/50\n",
            "\u001b[1m37/37\u001b[0m \u001b[32m━━━━━━━━━━━━━━━━━━━━\u001b[0m\u001b[37m\u001b[0m \u001b[1m1s\u001b[0m 18ms/step - accuracy: 0.6979 - loss: 0.8799 - val_accuracy: 0.7402 - val_loss: 0.8491\n",
            "Epoch 17/50\n",
            "\u001b[1m37/37\u001b[0m \u001b[32m━━━━━━━━━━━━━━━━━━━━\u001b[0m\u001b[37m\u001b[0m \u001b[1m1s\u001b[0m 15ms/step - accuracy: 0.7395 - loss: 0.7560 - val_accuracy: 0.7368 - val_loss: 0.8054\n",
            "Epoch 18/50\n",
            "\u001b[1m37/37\u001b[0m \u001b[32m━━━━━━━━━━━━━━━━━━━━\u001b[0m\u001b[37m\u001b[0m \u001b[1m0s\u001b[0m 9ms/step - accuracy: 0.7491 - loss: 0.7261 - val_accuracy: 0.7624 - val_loss: 0.7842\n",
            "Epoch 19/50\n",
            "\u001b[1m37/37\u001b[0m \u001b[32m━━━━━━━━━━━━━━━━━━━━\u001b[0m\u001b[37m\u001b[0m \u001b[1m0s\u001b[0m 9ms/step - accuracy: 0.7476 - loss: 0.7407 - val_accuracy: 0.7538 - val_loss: 0.7772\n",
            "Epoch 20/50\n",
            "\u001b[1m37/37\u001b[0m \u001b[32m━━━━━━━━━━━━━━━━━━━━\u001b[0m\u001b[37m\u001b[0m \u001b[1m1s\u001b[0m 10ms/step - accuracy: 0.7450 - loss: 0.7376 - val_accuracy: 0.7504 - val_loss: 0.7942\n",
            "Epoch 21/50\n",
            "\u001b[1m37/37\u001b[0m \u001b[32m━━━━━━━━━━━━━━━━━━━━\u001b[0m\u001b[37m\u001b[0m \u001b[1m0s\u001b[0m 9ms/step - accuracy: 0.7742 - loss: 0.6751 - val_accuracy: 0.7692 - val_loss: 0.7595\n",
            "Epoch 22/50\n",
            "\u001b[1m37/37\u001b[0m \u001b[32m━━━━━━━━━━━━━━━━━━━━\u001b[0m\u001b[37m\u001b[0m \u001b[1m1s\u001b[0m 9ms/step - accuracy: 0.7705 - loss: 0.6744 - val_accuracy: 0.7590 - val_loss: 0.7427\n",
            "Epoch 23/50\n",
            "\u001b[1m37/37\u001b[0m \u001b[32m━━━━━━━━━━━━━━━━━━━━\u001b[0m\u001b[37m\u001b[0m \u001b[1m0s\u001b[0m 10ms/step - accuracy: 0.7780 - loss: 0.6710 - val_accuracy: 0.7709 - val_loss: 0.7330\n",
            "Epoch 24/50\n",
            "\u001b[1m37/37\u001b[0m \u001b[32m━━━━━━━━━━━━━━━━━━━━\u001b[0m\u001b[37m\u001b[0m \u001b[1m0s\u001b[0m 10ms/step - accuracy: 0.7850 - loss: 0.6351 - val_accuracy: 0.7795 - val_loss: 0.7267\n",
            "Epoch 25/50\n",
            "\u001b[1m37/37\u001b[0m \u001b[32m━━━━━━━━━━━━━━━━━━━━\u001b[0m\u001b[37m\u001b[0m \u001b[1m1s\u001b[0m 10ms/step - accuracy: 0.7851 - loss: 0.6094 - val_accuracy: 0.7778 - val_loss: 0.7527\n",
            "Epoch 26/50\n",
            "\u001b[1m37/37\u001b[0m \u001b[32m━━━━━━━━━━━━━━━━━━━━\u001b[0m\u001b[37m\u001b[0m \u001b[1m0s\u001b[0m 10ms/step - accuracy: 0.7764 - loss: 0.6425 - val_accuracy: 0.7744 - val_loss: 0.7289\n",
            "Epoch 27/50\n",
            "\u001b[1m37/37\u001b[0m \u001b[32m━━━━━━━━━━━━━━━━━━━━\u001b[0m\u001b[37m\u001b[0m \u001b[1m1s\u001b[0m 10ms/step - accuracy: 0.7910 - loss: 0.6150 - val_accuracy: 0.7709 - val_loss: 0.7081\n",
            "Epoch 28/50\n",
            "\u001b[1m37/37\u001b[0m \u001b[32m━━━━━━━━━━━━━━━━━━━━\u001b[0m\u001b[37m\u001b[0m \u001b[1m0s\u001b[0m 10ms/step - accuracy: 0.8172 - loss: 0.5487 - val_accuracy: 0.7573 - val_loss: 0.7469\n",
            "Epoch 29/50\n",
            "\u001b[1m37/37\u001b[0m \u001b[32m━━━━━━━━━━━━━━━━━━━━\u001b[0m\u001b[37m\u001b[0m \u001b[1m1s\u001b[0m 9ms/step - accuracy: 0.8128 - loss: 0.5547 - val_accuracy: 0.7709 - val_loss: 0.7046\n",
            "Epoch 30/50\n",
            "\u001b[1m37/37\u001b[0m \u001b[32m━━━━━━━━━━━━━━━━━━━━\u001b[0m\u001b[37m\u001b[0m \u001b[1m1s\u001b[0m 10ms/step - accuracy: 0.8128 - loss: 0.5533 - val_accuracy: 0.7726 - val_loss: 0.7397\n",
            "Epoch 31/50\n",
            "\u001b[1m37/37\u001b[0m \u001b[32m━━━━━━━━━━━━━━━━━━━━\u001b[0m\u001b[37m\u001b[0m \u001b[1m0s\u001b[0m 10ms/step - accuracy: 0.8099 - loss: 0.5585 - val_accuracy: 0.7829 - val_loss: 0.6951\n",
            "Epoch 32/50\n",
            "\u001b[1m37/37\u001b[0m \u001b[32m━━━━━━━━━━━━━━━━━━━━\u001b[0m\u001b[37m\u001b[0m \u001b[1m1s\u001b[0m 9ms/step - accuracy: 0.8059 - loss: 0.5526 - val_accuracy: 0.7538 - val_loss: 0.7413\n",
            "Epoch 33/50\n",
            "\u001b[1m37/37\u001b[0m \u001b[32m━━━━━━━━━━━━━━━━━━━━\u001b[0m\u001b[37m\u001b[0m \u001b[1m0s\u001b[0m 9ms/step - accuracy: 0.8006 - loss: 0.5482 - val_accuracy: 0.7846 - val_loss: 0.7164\n",
            "Epoch 34/50\n",
            "\u001b[1m37/37\u001b[0m \u001b[32m━━━━━━━━━━━━━━━━━━━━\u001b[0m\u001b[37m\u001b[0m \u001b[1m0s\u001b[0m 10ms/step - accuracy: 0.8117 - loss: 0.5206 - val_accuracy: 0.7812 - val_loss: 0.7297\n",
            "Epoch 35/50\n",
            "\u001b[1m37/37\u001b[0m \u001b[32m━━━━━━━━━━━━━━━━━━━━\u001b[0m\u001b[37m\u001b[0m \u001b[1m0s\u001b[0m 9ms/step - accuracy: 0.8394 - loss: 0.4750 - val_accuracy: 0.7709 - val_loss: 0.7417\n",
            "Epoch 36/50\n",
            "\u001b[1m37/37\u001b[0m \u001b[32m━━━━━━━━━━━━━━━━━━━━\u001b[0m\u001b[37m\u001b[0m \u001b[1m1s\u001b[0m 9ms/step - accuracy: 0.8221 - loss: 0.4985 - val_accuracy: 0.7795 - val_loss: 0.7113\n",
            "Epoch 37/50\n",
            "\u001b[1m37/37\u001b[0m \u001b[32m━━━━━━━━━━━━━━━━━━━━\u001b[0m\u001b[37m\u001b[0m \u001b[1m1s\u001b[0m 9ms/step - accuracy: 0.8321 - loss: 0.4938 - val_accuracy: 0.7812 - val_loss: 0.6861\n",
            "Epoch 38/50\n",
            "\u001b[1m37/37\u001b[0m \u001b[32m━━━━━━━━━━━━━━━━━━━━\u001b[0m\u001b[37m\u001b[0m \u001b[1m1s\u001b[0m 15ms/step - accuracy: 0.8328 - loss: 0.4550 - val_accuracy: 0.7829 - val_loss: 0.7254\n",
            "Epoch 39/50\n",
            "\u001b[1m37/37\u001b[0m \u001b[32m━━━━━━━━━━━━━━━━━━━━\u001b[0m\u001b[37m\u001b[0m \u001b[1m1s\u001b[0m 14ms/step - accuracy: 0.8488 - loss: 0.4304 - val_accuracy: 0.7795 - val_loss: 0.7242\n",
            "Epoch 40/50\n",
            "\u001b[1m37/37\u001b[0m \u001b[32m━━━━━━━━━━━━━━━━━━━━\u001b[0m\u001b[37m\u001b[0m \u001b[1m1s\u001b[0m 18ms/step - accuracy: 0.8320 - loss: 0.4515 - val_accuracy: 0.7590 - val_loss: 0.7411\n",
            "Epoch 41/50\n",
            "\u001b[1m37/37\u001b[0m \u001b[32m━━━━━━━━━━━━━━━━━━━━\u001b[0m\u001b[37m\u001b[0m \u001b[1m1s\u001b[0m 13ms/step - accuracy: 0.8503 - loss: 0.4450 - val_accuracy: 0.7863 - val_loss: 0.6945\n",
            "Epoch 42/50\n",
            "\u001b[1m37/37\u001b[0m \u001b[32m━━━━━━━━━━━━━━━━━━━━\u001b[0m\u001b[37m\u001b[0m \u001b[1m0s\u001b[0m 9ms/step - accuracy: 0.8334 - loss: 0.4644 - val_accuracy: 0.7692 - val_loss: 0.7315\n",
            "Epoch 43/50\n",
            "\u001b[1m37/37\u001b[0m \u001b[32m━━━━━━━━━━━━━━━━━━━━\u001b[0m\u001b[37m\u001b[0m \u001b[1m0s\u001b[0m 10ms/step - accuracy: 0.8528 - loss: 0.4347 - val_accuracy: 0.7932 - val_loss: 0.6964\n",
            "Epoch 44/50\n",
            "\u001b[1m37/37\u001b[0m \u001b[32m━━━━━━━━━━━━━━━━━━━━\u001b[0m\u001b[37m\u001b[0m \u001b[1m1s\u001b[0m 9ms/step - accuracy: 0.8574 - loss: 0.4060 - val_accuracy: 0.7829 - val_loss: 0.6952\n",
            "Epoch 45/50\n",
            "\u001b[1m37/37\u001b[0m \u001b[32m━━━━━━━━━━━━━━━━━━━━\u001b[0m\u001b[37m\u001b[0m \u001b[1m1s\u001b[0m 10ms/step - accuracy: 0.8485 - loss: 0.4187 - val_accuracy: 0.7726 - val_loss: 0.7391\n",
            "Epoch 46/50\n",
            "\u001b[1m37/37\u001b[0m \u001b[32m━━━━━━━━━━━━━━━━━━━━\u001b[0m\u001b[37m\u001b[0m \u001b[1m1s\u001b[0m 10ms/step - accuracy: 0.8719 - loss: 0.3869 - val_accuracy: 0.7915 - val_loss: 0.7000\n",
            "Epoch 47/50\n",
            "\u001b[1m37/37\u001b[0m \u001b[32m━━━━━━━━━━━━━━━━━━━━\u001b[0m\u001b[37m\u001b[0m \u001b[1m1s\u001b[0m 9ms/step - accuracy: 0.8626 - loss: 0.3906 - val_accuracy: 0.7897 - val_loss: 0.7145\n",
            "Epoch 48/50\n",
            "\u001b[1m37/37\u001b[0m \u001b[32m━━━━━━━━━━━━━━━━━━━━\u001b[0m\u001b[37m\u001b[0m \u001b[1m0s\u001b[0m 9ms/step - accuracy: 0.8555 - loss: 0.3896 - val_accuracy: 0.7897 - val_loss: 0.6921\n",
            "Epoch 49/50\n",
            "\u001b[1m37/37\u001b[0m \u001b[32m━━━━━━━━━━━━━━━━━━━━\u001b[0m\u001b[37m\u001b[0m \u001b[1m0s\u001b[0m 10ms/step - accuracy: 0.8532 - loss: 0.3924 - val_accuracy: 0.7932 - val_loss: 0.6787\n",
            "Epoch 50/50\n",
            "\u001b[1m37/37\u001b[0m \u001b[32m━━━━━━━━━━━━━━━━━━━━\u001b[0m\u001b[37m\u001b[0m \u001b[1m1s\u001b[0m 9ms/step - accuracy: 0.8570 - loss: 0.3858 - val_accuracy: 0.7778 - val_loss: 0.6890\n"
          ]
        }
      ]
    },
    {
      "cell_type": "code",
      "source": [
        "y_pred_tab = tab_nn.predict(X_test).argmax(axis=1)\n",
        "\n",
        "print(\"📊 Tabular NN Report:\")\n",
        "print(classification_report(y_test, y_pred_tab, target_names=class_labels))\n"
      ],
      "metadata": {
        "colab": {
          "base_uri": "https://localhost:8080/"
        },
        "id": "Q0Id_0F9xc4G",
        "outputId": "a6e8723b-a5a7-4801-fd48-a90705ec1cb8"
      },
      "execution_count": 14,
      "outputs": [
        {
          "output_type": "stream",
          "name": "stdout",
          "text": [
            "\u001b[1m19/19\u001b[0m \u001b[32m━━━━━━━━━━━━━━━━━━━━\u001b[0m\u001b[37m\u001b[0m \u001b[1m0s\u001b[0m 5ms/step\n",
            "📊 Tabular NN Report:\n",
            "                                             precision    recall  f1-score   support\n",
            "\n",
            "              Pepper__bell___Bacterial_spot       0.70      0.79      0.75        39\n",
            "                           Potato___healthy       0.82      0.82      0.82        28\n",
            "                           Tomato_Leaf_Mold       0.84      0.86      0.85        49\n",
            "      Tomato__Tomato_YellowLeaf__Curl_Virus       0.68      0.75      0.71        36\n",
            "                      Tomato_Bacterial_spot       0.88      0.76      0.82        38\n",
            "                  Tomato_Septoria_leaf_spot       0.73      0.63      0.68        35\n",
            "                             Tomato_healthy       0.84      0.86      0.85        37\n",
            "Tomato_Spider_mites_Two_spotted_spider_mite       0.74      0.70      0.72        40\n",
            "                        Tomato_Early_blight       0.64      0.60      0.62        30\n",
            "                        Tomato__Target_Spot       0.82      0.74      0.78        42\n",
            "                     Pepper__bell___healthy       0.67      0.89      0.77        35\n",
            "                       Potato___Late_blight       0.79      0.79      0.79        42\n",
            "                         Tomato_Late_blight       0.69      0.54      0.61        46\n",
            "                      Potato___Early_blight       0.84      0.94      0.89        52\n",
            "                Tomato__Tomato_mosaic_virus       0.94      0.94      0.94        36\n",
            "\n",
            "                                   accuracy                           0.78       585\n",
            "                                  macro avg       0.78      0.77      0.77       585\n",
            "                               weighted avg       0.78      0.78      0.78       585\n",
            "\n"
          ]
        }
      ]
    },
    {
      "cell_type": "code",
      "source": [
        "import pandas as pd\n",
        "from sklearn.metrics import classification_report, accuracy_score, precision_score, recall_score, f1_score\n",
        "\n",
        "# --- CNN evaluation ---\n",
        "y_pred_cnn = cnn.predict(test_gen).argmax(axis=1)\n",
        "y_true_cnn = test_gen.classes\n",
        "\n",
        "cnn_acc = accuracy_score(y_true_cnn, y_pred_cnn)\n",
        "cnn_prec = precision_score(y_true_cnn, y_pred_cnn, average=\"weighted\")\n",
        "cnn_rec = recall_score(y_true_cnn, y_pred_cnn, average=\"weighted\")\n",
        "cnn_f1 = f1_score(y_true_cnn, y_pred_cnn, average=\"weighted\")\n",
        "\n",
        "# --- Tabular NN evaluation ---\n",
        "y_pred_tab = tab_nn.predict(X_test).argmax(axis=1)\n",
        "\n",
        "tab_acc = accuracy_score(y_test, y_pred_tab)\n",
        "tab_prec = precision_score(y_test, y_pred_tab, average=\"weighted\")\n",
        "tab_rec = recall_score(y_test, y_pred_tab, average=\"weighted\")\n",
        "tab_f1 = f1_score(y_test, y_pred_tab, average=\"weighted\")\n",
        "\n",
        "# --- Build result table ---\n",
        "results = pd.DataFrame({\n",
        "    \"Model\": [\"CNN\", \"Tabular NN\"],\n",
        "    \"Accuracy\": [cnn_acc, tab_acc],\n",
        "    \"Precision\": [cnn_prec, tab_prec],\n",
        "    \"Recall\": [cnn_rec, tab_rec],\n",
        "    \"F1-score\": [cnn_f1, tab_f1]\n",
        "})\n",
        "\n",
        "print(\"📊 Model Performance Comparison\")\n",
        "print(results)\n"
      ],
      "metadata": {
        "colab": {
          "base_uri": "https://localhost:8080/"
        },
        "id": "q9l1dhIfxrSa",
        "outputId": "223bf436-0943-4514-fb9d-d479b6391056"
      },
      "execution_count": 15,
      "outputs": [
        {
          "output_type": "stream",
          "name": "stdout",
          "text": [
            "\u001b[1m65/65\u001b[0m \u001b[32m━━━━━━━━━━━━━━━━━━━━\u001b[0m\u001b[37m\u001b[0m \u001b[1m20s\u001b[0m 306ms/step\n",
            "\u001b[1m19/19\u001b[0m \u001b[32m━━━━━━━━━━━━━━━━━━━━\u001b[0m\u001b[37m\u001b[0m \u001b[1m0s\u001b[0m 3ms/step \n",
            "📊 Model Performance Comparison\n",
            "        Model  Accuracy  Precision    Recall  F1-score\n",
            "0         CNN  0.913275   0.917625  0.913275  0.913964\n",
            "1  Tabular NN  0.777778   0.778873  0.777778  0.775470\n"
          ]
        }
      ]
    },
    {
      "cell_type": "code",
      "source": [
        "import matplotlib.pyplot as plt\n",
        "\n",
        "# Metrics\n",
        "metrics = [\"Accuracy\", \"Precision\", \"Recall\", \"F1-score\"]\n",
        "cnn_scores = [cnn_acc, cnn_prec, cnn_rec, cnn_f1]\n",
        "tab_scores = [tab_acc, tab_prec, tab_rec, tab_f1]\n",
        "\n",
        "x = np.arange(len(metrics))  # positions\n",
        "width = 0.35  # bar width\n",
        "\n",
        "plt.figure(figsize=(8,6))\n",
        "plt.bar(x - width/2, cnn_scores, width, label=\"CNN\")\n",
        "plt.bar(x + width/2, tab_scores, width, label=\"Tabular NN\")\n",
        "\n",
        "# Labels & formatting\n",
        "plt.xticks(x, metrics)\n",
        "plt.ylabel(\"Score\")\n",
        "plt.ylim(0, 1)\n",
        "plt.title(\"📊 CNN vs Tabular NN Performance Comparison\")\n",
        "plt.legend()\n",
        "plt.show()\n"
      ],
      "metadata": {
        "colab": {
          "base_uri": "https://localhost:8080/",
          "height": 580
        },
        "id": "Fm_Ccr87x7gH",
        "outputId": "0c80aad1-8849-4c05-ed7d-bf77358a7f03"
      },
      "execution_count": 16,
      "outputs": [
        {
          "output_type": "stream",
          "name": "stderr",
          "text": [
            "/usr/local/lib/python3.12/dist-packages/IPython/core/pylabtools.py:151: UserWarning: Glyph 128202 (\\N{BAR CHART}) missing from font(s) DejaVu Sans.\n",
            "  fig.canvas.print_figure(bytes_io, **kw)\n"
          ]
        },
        {
          "output_type": "display_data",
          "data": {
            "text/plain": [
              "<Figure size 800x600 with 1 Axes>"
            ],
            "image/png": "[encoded data removed]"
          },
          "metadata": {}
        }
      ]
    },
    {
      "cell_type": "code",
      "source": [
        "import matplotlib.pyplot as plt\n",
        "import numpy as np\n",
        "\n",
        "# Data\n",
        "results = {\n",
        "    \"CNN\": [cnn_acc, cnn_prec, cnn_rec, cnn_f1],\n",
        "    \"Tabular NN\": [tab_acc, tab_prec, tab_rec, tab_f1]\n",
        "}\n",
        "\n",
        "metrics = [\"Accuracy\", \"Precision\", \"Recall\", \"F1-score\"]\n",
        "\n",
        "# Convert to array\n",
        "data = np.array(list(results.values()))\n",
        "\n",
        "# Plot heatmap\n",
        "plt.figure(figsize=(8,5))\n",
        "plt.imshow(data, cmap=\"viridis\", aspect=\"auto\")\n",
        "\n",
        "# Show values on heatmap\n",
        "for i in range(data.shape[0]):\n",
        "    for j in range(data.shape[1]):\n",
        "        plt.text(j, i, f\"{data[i, j]:.2f}\", ha=\"center\", va=\"center\", color=\"white\")\n",
        "\n",
        "# Labels\n",
        "plt.xticks(np.arange(len(metrics)), metrics)\n",
        "plt.yticks(np.arange(len(results)), list(results.keys()))\n",
        "plt.colorbar(label=\"Score\")\n",
        "plt.title(\"Model Performance Heatmap\")\n",
        "plt.show()\n"
      ],
      "metadata": {
        "colab": {
          "base_uri": "https://localhost:8080/",
          "height": 468
        },
        "id": "VPUjHWSAzy-V",
        "outputId": "fcfa11b7-0c6b-4972-80ee-c38354bf3d4c"
      },
      "execution_count": 18,
      "outputs": [
        {
          "output_type": "display_data",
          "data": {
            "text/plain": [
              "<Figure size 800x500 with 2 Axes>"
            ],
            "image/png": "[encoded data removed]"
          },
          "metadata": {}
        }
      ]
    },
    {
      "cell_type": "code",
      "source": [
        "import matplotlib.pyplot as plt\n",
        "import numpy as np\n",
        "\n",
        "# Metrics\n",
        "metrics = [\"Accuracy\", \"Precision\", \"Recall\", \"F1-score\"]\n",
        "cnn_scores = [cnn_acc, cnn_prec, cnn_rec, cnn_f1]\n",
        "tab_scores = [tab_acc, tab_prec, tab_rec, tab_f1]\n",
        "\n",
        "x = np.arange(len(metrics))  # X positions\n",
        "\n",
        "plt.figure(figsize=(9,6))\n",
        "\n",
        "# CNN line\n",
        "plt.plot(x, cnn_scores, marker='o', label=\"CNN\", linewidth=2)\n",
        "\n",
        "# Tabular NN line\n",
        "plt.plot(x, tab_scores, marker='s', label=\"Tabular NN\", linewidth=2)\n",
        "\n",
        "# Difference line (CNN - Tabular NN)\n",
        "diff_scores = np.array(cnn_scores) - np.array(tab_scores)\n",
        "plt.plot(x, diff_scores, marker='^', linestyle=\"--\", label=\"Difference (CNN - NN)\", linewidth=2)\n",
        "\n",
        "# Annotate values\n",
        "for i, val in enumerate(cnn_scores):\n",
        "    plt.text(x[i], val+0.02, f\"{val:.2f}\", ha=\"center\", color=\"blue\")\n",
        "for i, val in enumerate(tab_scores):\n",
        "    plt.text(x[i], val-0.05, f\"{val:.2f}\", ha=\"center\", color=\"orange\")\n",
        "for i, val in enumerate(diff_scores):\n",
        "    plt.text(x[i], val-0.08, f\"Δ{val:.2f}\", ha=\"center\", color=\"green\")\n",
        "\n",
        "# Labels & formatting\n",
        "plt.xticks(x, metrics)\n",
        "plt.ylabel(\"Score\")\n",
        "plt.ylim(0, 1.1)\n",
        "plt.title(\"📈 CNN vs Tabular NN Performance + Difference\")\n",
        "plt.legend()\n",
        "plt.grid(True)\n",
        "plt.show()\n"
      ],
      "metadata": {
        "colab": {
          "base_uri": "https://localhost:8080/",
          "height": 580
        },
        "id": "1nj5ApZPM_xP",
        "outputId": "4fee13aa-108e-4bf4-f8ee-a99ce99fd905"
      },
      "execution_count": 22,
      "outputs": [
        {
          "output_type": "stream",
          "name": "stderr",
          "text": [
            "/usr/local/lib/python3.12/dist-packages/IPython/core/pylabtools.py:151: UserWarning: Glyph 128200 (\\N{CHART WITH UPWARDS TREND}) missing from font(s) DejaVu Sans.\n",
            "  fig.canvas.print_figure(bytes_io, **kw)\n"
          ]
        },
        {
          "output_type": "display_data",
          "data": {
            "text/plain": [
              "<Figure size 900x600 with 1 Axes>"
            ],
            "image/png": "[encoded data removed]"
          },
          "metadata": {}
        }
      ]
    },
    {
      "cell_type": "code",
      "source": [],
      "metadata": {
        "id": "QM31SJknNuB3"
      },
      "execution_count": null,
      "outputs": []
    }
  ],
  "metadata": {
    "colab": {
      "provenance": []
    },
    "kernelspec": {
      "display_name": "Python 3",
      "name": "python3"
    },
    "language_info": {
      "name": "python"
    }
  },
  "nbformat": 4,
  "nbformat_minor": 0
}